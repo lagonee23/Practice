{
  "nbformat": 4,
  "nbformat_minor": 0,
  "metadata": {
    "colab": {
      "name": "Pandas_tutorial.ipynb",
      "provenance": [],
      "collapsed_sections": [],
      "authorship_tag": "ABX9TyMaY8i0mX1sSnp2NBKvfpAi",
      "include_colab_link": true
    },
    "kernelspec": {
      "name": "python3",
      "display_name": "Python 3"
    },
    "language_info": {
      "name": "python"
    }
  },
  "cells": [
    {
      "cell_type": "markdown",
      "metadata": {
        "id": "view-in-github",
        "colab_type": "text"
      },
      "source": [
        "<a href=\"https://colab.research.google.com/github/lagonee23/Practice/blob/master/Pandas/Pandas_tutorial.ipynb\" target=\"_parent\"><img src=\"https://colab.research.google.com/assets/colab-badge.svg\" alt=\"Open In Colab\"/></a>"
      ]
    },
    {
      "cell_type": "markdown",
      "source": [
        "# Question 1\n",
        "> 데이터를 로드하라. 데이터는 \\t을 기준으로 구분되어있다."
      ],
      "metadata": {
        "id": "G0sdIVDvdJnz"
      }
    },
    {
      "cell_type": "code",
      "execution_count": 1,
      "metadata": {
        "id": "tdINf77wb8kq"
      },
      "outputs": [],
      "source": [
        "import pandas as pd\n",
        "\n",
        "# 롤 랭킹 데이터\n",
        "DataUrl = 'https://raw.githubusercontent.com/Datamanim/pandas/main/lol.csv'\n",
        "df = pd.read_csv(DataUrl, sep='\\t')"
      ]
    },
    {
      "cell_type": "markdown",
      "source": [
        "# Question 2\n",
        "> 데이터의 상위 5개 행을 출력하라"
      ],
      "metadata": {
        "id": "IMDqJsJifRtE"
      }
    },
    {
      "cell_type": "code",
      "source": [
        "df.head(5)"
      ],
      "metadata": {
        "colab": {
          "base_uri": "https://localhost:8080/",
          "height": 299
        },
        "id": "xribQyrcfX_C",
        "outputId": "47e4d93f-4850-44e8-abf7-6a94241298b7"
      },
      "execution_count": 2,
      "outputs": [
        {
          "output_type": "execute_result",
          "data": {
            "text/plain": [
              "       gameId   creationTime  gameDuration  seasonId  winner  firstBlood  \\\n",
              "0  3326086514  1504279457970          1949         9       1           2   \n",
              "1  3229566029  1497848803862          1851         9       1           1   \n",
              "2  3327363504  1504360103310          1493         9       1           2   \n",
              "3  3326856598  1504348503996          1758         9       1           1   \n",
              "4  3330080762  1504554410899          2094         9       1           2   \n",
              "\n",
              "   firstTower  firstInhibitor  firstBaron  firstDragon  ...  t2_towerKills  \\\n",
              "0           1               1           1            1  ...              5   \n",
              "1           1               1           0            1  ...              2   \n",
              "2           1               1           1            2  ...              2   \n",
              "3           1               1           1            1  ...              0   \n",
              "4           1               1           1            1  ...              3   \n",
              "\n",
              "   t2_inhibitorKills  t2_baronKills  t2_dragonKills  t2_riftHeraldKills  \\\n",
              "0                  0              0               1                   1   \n",
              "1                  0              0               0                   0   \n",
              "2                  0              0               1                   0   \n",
              "3                  0              0               0                   0   \n",
              "4                  0              0               1                   0   \n",
              "\n",
              "   t2_ban1  t2_ban2  t2_ban3  t2_ban4  t2_ban5  \n",
              "0      114       67       43       16       51  \n",
              "1       11       67      238       51      420  \n",
              "2      157      238      121       57       28  \n",
              "3      164       18      141       40       51  \n",
              "4       86       11      201      122       18  \n",
              "\n",
              "[5 rows x 61 columns]"
            ],
            "text/html": [
              "\n",
              "  <div id=\"df-111ce957-9150-4ee4-8c02-0bd19d94ccf8\">\n",
              "    <div class=\"colab-df-container\">\n",
              "      <div>\n",
              "<style scoped>\n",
              "    .dataframe tbody tr th:only-of-type {\n",
              "        vertical-align: middle;\n",
              "    }\n",
              "\n",
              "    .dataframe tbody tr th {\n",
              "        vertical-align: top;\n",
              "    }\n",
              "\n",
              "    .dataframe thead th {\n",
              "        text-align: right;\n",
              "    }\n",
              "</style>\n",
              "<table border=\"1\" class=\"dataframe\">\n",
              "  <thead>\n",
              "    <tr style=\"text-align: right;\">\n",
              "      <th></th>\n",
              "      <th>gameId</th>\n",
              "      <th>creationTime</th>\n",
              "      <th>gameDuration</th>\n",
              "      <th>seasonId</th>\n",
              "      <th>winner</th>\n",
              "      <th>firstBlood</th>\n",
              "      <th>firstTower</th>\n",
              "      <th>firstInhibitor</th>\n",
              "      <th>firstBaron</th>\n",
              "      <th>firstDragon</th>\n",
              "      <th>...</th>\n",
              "      <th>t2_towerKills</th>\n",
              "      <th>t2_inhibitorKills</th>\n",
              "      <th>t2_baronKills</th>\n",
              "      <th>t2_dragonKills</th>\n",
              "      <th>t2_riftHeraldKills</th>\n",
              "      <th>t2_ban1</th>\n",
              "      <th>t2_ban2</th>\n",
              "      <th>t2_ban3</th>\n",
              "      <th>t2_ban4</th>\n",
              "      <th>t2_ban5</th>\n",
              "    </tr>\n",
              "  </thead>\n",
              "  <tbody>\n",
              "    <tr>\n",
              "      <th>0</th>\n",
              "      <td>3326086514</td>\n",
              "      <td>1504279457970</td>\n",
              "      <td>1949</td>\n",
              "      <td>9</td>\n",
              "      <td>1</td>\n",
              "      <td>2</td>\n",
              "      <td>1</td>\n",
              "      <td>1</td>\n",
              "      <td>1</td>\n",
              "      <td>1</td>\n",
              "      <td>...</td>\n",
              "      <td>5</td>\n",
              "      <td>0</td>\n",
              "      <td>0</td>\n",
              "      <td>1</td>\n",
              "      <td>1</td>\n",
              "      <td>114</td>\n",
              "      <td>67</td>\n",
              "      <td>43</td>\n",
              "      <td>16</td>\n",
              "      <td>51</td>\n",
              "    </tr>\n",
              "    <tr>\n",
              "      <th>1</th>\n",
              "      <td>3229566029</td>\n",
              "      <td>1497848803862</td>\n",
              "      <td>1851</td>\n",
              "      <td>9</td>\n",
              "      <td>1</td>\n",
              "      <td>1</td>\n",
              "      <td>1</td>\n",
              "      <td>1</td>\n",
              "      <td>0</td>\n",
              "      <td>1</td>\n",
              "      <td>...</td>\n",
              "      <td>2</td>\n",
              "      <td>0</td>\n",
              "      <td>0</td>\n",
              "      <td>0</td>\n",
              "      <td>0</td>\n",
              "      <td>11</td>\n",
              "      <td>67</td>\n",
              "      <td>238</td>\n",
              "      <td>51</td>\n",
              "      <td>420</td>\n",
              "    </tr>\n",
              "    <tr>\n",
              "      <th>2</th>\n",
              "      <td>3327363504</td>\n",
              "      <td>1504360103310</td>\n",
              "      <td>1493</td>\n",
              "      <td>9</td>\n",
              "      <td>1</td>\n",
              "      <td>2</td>\n",
              "      <td>1</td>\n",
              "      <td>1</td>\n",
              "      <td>1</td>\n",
              "      <td>2</td>\n",
              "      <td>...</td>\n",
              "      <td>2</td>\n",
              "      <td>0</td>\n",
              "      <td>0</td>\n",
              "      <td>1</td>\n",
              "      <td>0</td>\n",
              "      <td>157</td>\n",
              "      <td>238</td>\n",
              "      <td>121</td>\n",
              "      <td>57</td>\n",
              "      <td>28</td>\n",
              "    </tr>\n",
              "    <tr>\n",
              "      <th>3</th>\n",
              "      <td>3326856598</td>\n",
              "      <td>1504348503996</td>\n",
              "      <td>1758</td>\n",
              "      <td>9</td>\n",
              "      <td>1</td>\n",
              "      <td>1</td>\n",
              "      <td>1</td>\n",
              "      <td>1</td>\n",
              "      <td>1</td>\n",
              "      <td>1</td>\n",
              "      <td>...</td>\n",
              "      <td>0</td>\n",
              "      <td>0</td>\n",
              "      <td>0</td>\n",
              "      <td>0</td>\n",
              "      <td>0</td>\n",
              "      <td>164</td>\n",
              "      <td>18</td>\n",
              "      <td>141</td>\n",
              "      <td>40</td>\n",
              "      <td>51</td>\n",
              "    </tr>\n",
              "    <tr>\n",
              "      <th>4</th>\n",
              "      <td>3330080762</td>\n",
              "      <td>1504554410899</td>\n",
              "      <td>2094</td>\n",
              "      <td>9</td>\n",
              "      <td>1</td>\n",
              "      <td>2</td>\n",
              "      <td>1</td>\n",
              "      <td>1</td>\n",
              "      <td>1</td>\n",
              "      <td>1</td>\n",
              "      <td>...</td>\n",
              "      <td>3</td>\n",
              "      <td>0</td>\n",
              "      <td>0</td>\n",
              "      <td>1</td>\n",
              "      <td>0</td>\n",
              "      <td>86</td>\n",
              "      <td>11</td>\n",
              "      <td>201</td>\n",
              "      <td>122</td>\n",
              "      <td>18</td>\n",
              "    </tr>\n",
              "  </tbody>\n",
              "</table>\n",
              "<p>5 rows × 61 columns</p>\n",
              "</div>\n",
              "      <button class=\"colab-df-convert\" onclick=\"convertToInteractive('df-111ce957-9150-4ee4-8c02-0bd19d94ccf8')\"\n",
              "              title=\"Convert this dataframe to an interactive table.\"\n",
              "              style=\"display:none;\">\n",
              "        \n",
              "  <svg xmlns=\"http://www.w3.org/2000/svg\" height=\"24px\"viewBox=\"0 0 24 24\"\n",
              "       width=\"24px\">\n",
              "    <path d=\"M0 0h24v24H0V0z\" fill=\"none\"/>\n",
              "    <path d=\"M18.56 5.44l.94 2.06.94-2.06 2.06-.94-2.06-.94-.94-2.06-.94 2.06-2.06.94zm-11 1L8.5 8.5l.94-2.06 2.06-.94-2.06-.94L8.5 2.5l-.94 2.06-2.06.94zm10 10l.94 2.06.94-2.06 2.06-.94-2.06-.94-.94-2.06-.94 2.06-2.06.94z\"/><path d=\"M17.41 7.96l-1.37-1.37c-.4-.4-.92-.59-1.43-.59-.52 0-1.04.2-1.43.59L10.3 9.45l-7.72 7.72c-.78.78-.78 2.05 0 2.83L4 21.41c.39.39.9.59 1.41.59.51 0 1.02-.2 1.41-.59l7.78-7.78 2.81-2.81c.8-.78.8-2.07 0-2.86zM5.41 20L4 18.59l7.72-7.72 1.47 1.35L5.41 20z\"/>\n",
              "  </svg>\n",
              "      </button>\n",
              "      \n",
              "  <style>\n",
              "    .colab-df-container {\n",
              "      display:flex;\n",
              "      flex-wrap:wrap;\n",
              "      gap: 12px;\n",
              "    }\n",
              "\n",
              "    .colab-df-convert {\n",
              "      background-color: #E8F0FE;\n",
              "      border: none;\n",
              "      border-radius: 50%;\n",
              "      cursor: pointer;\n",
              "      display: none;\n",
              "      fill: #1967D2;\n",
              "      height: 32px;\n",
              "      padding: 0 0 0 0;\n",
              "      width: 32px;\n",
              "    }\n",
              "\n",
              "    .colab-df-convert:hover {\n",
              "      background-color: #E2EBFA;\n",
              "      box-shadow: 0px 1px 2px rgba(60, 64, 67, 0.3), 0px 1px 3px 1px rgba(60, 64, 67, 0.15);\n",
              "      fill: #174EA6;\n",
              "    }\n",
              "\n",
              "    [theme=dark] .colab-df-convert {\n",
              "      background-color: #3B4455;\n",
              "      fill: #D2E3FC;\n",
              "    }\n",
              "\n",
              "    [theme=dark] .colab-df-convert:hover {\n",
              "      background-color: #434B5C;\n",
              "      box-shadow: 0px 1px 3px 1px rgba(0, 0, 0, 0.15);\n",
              "      filter: drop-shadow(0px 1px 2px rgba(0, 0, 0, 0.3));\n",
              "      fill: #FFFFFF;\n",
              "    }\n",
              "  </style>\n",
              "\n",
              "      <script>\n",
              "        const buttonEl =\n",
              "          document.querySelector('#df-111ce957-9150-4ee4-8c02-0bd19d94ccf8 button.colab-df-convert');\n",
              "        buttonEl.style.display =\n",
              "          google.colab.kernel.accessAllowed ? 'block' : 'none';\n",
              "\n",
              "        async function convertToInteractive(key) {\n",
              "          const element = document.querySelector('#df-111ce957-9150-4ee4-8c02-0bd19d94ccf8');\n",
              "          const dataTable =\n",
              "            await google.colab.kernel.invokeFunction('convertToInteractive',\n",
              "                                                     [key], {});\n",
              "          if (!dataTable) return;\n",
              "\n",
              "          const docLinkHtml = 'Like what you see? Visit the ' +\n",
              "            '<a target=\"_blank\" href=https://colab.research.google.com/notebooks/data_table.ipynb>data table notebook</a>'\n",
              "            + ' to learn more about interactive tables.';\n",
              "          element.innerHTML = '';\n",
              "          dataTable['output_type'] = 'display_data';\n",
              "          await google.colab.output.renderOutput(dataTable, element);\n",
              "          const docLink = document.createElement('div');\n",
              "          docLink.innerHTML = docLinkHtml;\n",
              "          element.appendChild(docLink);\n",
              "        }\n",
              "      </script>\n",
              "    </div>\n",
              "  </div>\n",
              "  "
            ]
          },
          "metadata": {},
          "execution_count": 2
        }
      ]
    },
    {
      "cell_type": "markdown",
      "source": [
        "# Question 3\n",
        "> 데이터의 행과 열의 갯수를 파악하라"
      ],
      "metadata": {
        "id": "a-plyQBVjkgu"
      }
    },
    {
      "cell_type": "code",
      "source": [
        "df.shape"
      ],
      "metadata": {
        "id": "xPtsV2IUjqme",
        "colab": {
          "base_uri": "https://localhost:8080/"
        },
        "outputId": "8217e482-92a7-49c8-f074-830e18fc939f"
      },
      "execution_count": 3,
      "outputs": [
        {
          "output_type": "execute_result",
          "data": {
            "text/plain": [
              "(51490, 61)"
            ]
          },
          "metadata": {},
          "execution_count": 3
        }
      ]
    },
    {
      "cell_type": "markdown",
      "source": [
        "# Question 4\n",
        "> 전체 컬럼을 출력하라"
      ],
      "metadata": {
        "id": "al5U3cUDkplL"
      }
    },
    {
      "cell_type": "code",
      "source": [
        "df.columns"
      ],
      "metadata": {
        "colab": {
          "base_uri": "https://localhost:8080/"
        },
        "id": "-E3s7gYYkvvw",
        "outputId": "00232979-c8c3-4a55-893d-920a2b30000d"
      },
      "execution_count": 4,
      "outputs": [
        {
          "output_type": "execute_result",
          "data": {
            "text/plain": [
              "Index(['gameId', 'creationTime', 'gameDuration', 'seasonId', 'winner',\n",
              "       'firstBlood', 'firstTower', 'firstInhibitor', 'firstBaron',\n",
              "       'firstDragon', 'firstRiftHerald', 't1_champ1id', 't1_champ1_sum1',\n",
              "       't1_champ1_sum2', 't1_champ2id', 't1_champ2_sum1', 't1_champ2_sum2',\n",
              "       't1_champ3id', 't1_champ3_sum1', 't1_champ3_sum2', 't1_champ4id',\n",
              "       't1_champ4_sum1', 't1_champ4_sum2', 't1_champ5id', 't1_champ5_sum1',\n",
              "       't1_champ5_sum2', 't1_towerKills', 't1_inhibitorKills', 't1_baronKills',\n",
              "       't1_dragonKills', 't1_riftHeraldKills', 't1_ban1', 't1_ban2', 't1_ban3',\n",
              "       't1_ban4', 't1_ban5', 't2_champ1id', 't2_champ1_sum1', 't2_champ1_sum2',\n",
              "       't2_champ2id', 't2_champ2_sum1', 't2_champ2_sum2', 't2_champ3id',\n",
              "       't2_champ3_sum1', 't2_champ3_sum2', 't2_champ4id', 't2_champ4_sum1',\n",
              "       't2_champ4_sum2', 't2_champ5id', 't2_champ5_sum1', 't2_champ5_sum2',\n",
              "       't2_towerKills', 't2_inhibitorKills', 't2_baronKills', 't2_dragonKills',\n",
              "       't2_riftHeraldKills', 't2_ban1', 't2_ban2', 't2_ban3', 't2_ban4',\n",
              "       't2_ban5'],\n",
              "      dtype='object')"
            ]
          },
          "metadata": {},
          "execution_count": 4
        }
      ]
    },
    {
      "cell_type": "markdown",
      "source": [
        "# Question 5\n",
        "> 6번째 컬럼명을 출력하라"
      ],
      "metadata": {
        "id": "L4dh5_Dnk1lb"
      }
    },
    {
      "cell_type": "code",
      "source": [
        "df.columns[5]"
      ],
      "metadata": {
        "colab": {
          "base_uri": "https://localhost:8080/",
          "height": 35
        },
        "id": "QNTD8OSjrgra",
        "outputId": "bcb7b2d5-ef09-403b-97f7-ce26118e43a2"
      },
      "execution_count": 5,
      "outputs": [
        {
          "output_type": "execute_result",
          "data": {
            "text/plain": [
              "'firstBlood'"
            ],
            "application/vnd.google.colaboratory.intrinsic+json": {
              "type": "string"
            }
          },
          "metadata": {},
          "execution_count": 5
        }
      ]
    },
    {
      "cell_type": "markdown",
      "source": [
        "# Question 6\n",
        "> 6번째 컬럼의 데이터 타입을 확인하라"
      ],
      "metadata": {
        "id": "6LfyJMv9rpEK"
      }
    },
    {
      "cell_type": "code",
      "source": [
        "df.iloc[:, 5].dtype"
      ],
      "metadata": {
        "colab": {
          "base_uri": "https://localhost:8080/"
        },
        "id": "j37e9ltPk8aF",
        "outputId": "1572a05a-6e3d-472c-cab0-bec1bc4992a8"
      },
      "execution_count": 6,
      "outputs": [
        {
          "output_type": "execute_result",
          "data": {
            "text/plain": [
              "dtype('int64')"
            ]
          },
          "metadata": {},
          "execution_count": 6
        }
      ]
    },
    {
      "cell_type": "markdown",
      "source": [
        "# Question 7\n",
        "> 데이터셋의 인덱스 구성은 어떤가"
      ],
      "metadata": {
        "id": "ufZ1wQ8GrU28"
      }
    },
    {
      "cell_type": "code",
      "source": [
        "df.index"
      ],
      "metadata": {
        "colab": {
          "base_uri": "https://localhost:8080/"
        },
        "id": "v_A3bWgxsEm0",
        "outputId": "d12420db-9d16-48ec-d604-b3ccdce42670"
      },
      "execution_count": 7,
      "outputs": [
        {
          "output_type": "execute_result",
          "data": {
            "text/plain": [
              "RangeIndex(start=0, stop=51490, step=1)"
            ]
          },
          "metadata": {},
          "execution_count": 7
        }
      ]
    },
    {
      "cell_type": "markdown",
      "source": [
        "# Question 8\n",
        "> 6번째 컬럼의 3번째 값은 무엇인가?"
      ],
      "metadata": {
        "id": "_4OJBCLjsLTr"
      }
    },
    {
      "cell_type": "code",
      "source": [
        "df.iloc[2, 5]"
      ],
      "metadata": {
        "colab": {
          "base_uri": "https://localhost:8080/"
        },
        "id": "tOrBUfpTsP4H",
        "outputId": "c2787291-cd12-4cdb-f362-0dc8b319a654"
      },
      "execution_count": 8,
      "outputs": [
        {
          "output_type": "execute_result",
          "data": {
            "text/plain": [
              "2"
            ]
          },
          "metadata": {},
          "execution_count": 8
        }
      ]
    },
    {
      "cell_type": "markdown",
      "source": [
        "# Question 9\n",
        "데이터를 로드하라. 컬럼이 한글이기에 적절한 처리해줘야함"
      ],
      "metadata": {
        "id": "-u0p-eWasfXD"
      }
    },
    {
      "cell_type": "code",
      "source": [
        "DataUrl2 = 'https://raw.githubusercontent.com/Datamanim/pandas/main/Jeju.csv'\n",
        "df2 = pd.read_csv(DataUrl2, encoding='euc-kr')"
      ],
      "metadata": {
        "id": "mjtGAvxssjqJ"
      },
      "execution_count": 9,
      "outputs": []
    },
    {
      "cell_type": "markdown",
      "source": [
        "# Question 10\n",
        "> 데이터 마지막 3개행을 출력하라"
      ],
      "metadata": {
        "id": "vn24PypUsyle"
      }
    },
    {
      "cell_type": "code",
      "source": [
        "df2.tail(3)"
      ],
      "metadata": {
        "colab": {
          "base_uri": "https://localhost:8080/",
          "height": 143
        },
        "id": "YypZ61FTs38l",
        "outputId": "683d3ece-a2e1-494f-c18a-37a24ab8bf60"
      },
      "execution_count": 10,
      "outputs": [
        {
          "output_type": "execute_result",
          "data": {
            "text/plain": [
              "         id          일자   시도명 읍면동명         거주인구       근무인구        방문인구  \\\n",
              "9618  32066  2020-04-30   제주시  도두동    28397.481   3144.895   84052.697   \n",
              "9619  32067  2020-04-30  서귀포시  안덕면   348037.846  29106.286  251129.660   \n",
              "9620  32068  2020-04-30   제주시   연동  1010643.372  65673.477  447622.068   \n",
              "\n",
              "           총 유동인구   평균 속도  평균 소요 시간  평균 기온  일강수량  평균 풍속  \n",
              "9618   115595.073  41.053    29.421   20.3   0.0    3.0  \n",
              "9619   628273.792  46.595    49.189   17.6   0.0    3.5  \n",
              "9620  1523938.917  40.863    27.765   14.1   0.0    4.8  "
            ],
            "text/html": [
              "\n",
              "  <div id=\"df-9502e988-512b-4014-935b-96b10d3a89fe\">\n",
              "    <div class=\"colab-df-container\">\n",
              "      <div>\n",
              "<style scoped>\n",
              "    .dataframe tbody tr th:only-of-type {\n",
              "        vertical-align: middle;\n",
              "    }\n",
              "\n",
              "    .dataframe tbody tr th {\n",
              "        vertical-align: top;\n",
              "    }\n",
              "\n",
              "    .dataframe thead th {\n",
              "        text-align: right;\n",
              "    }\n",
              "</style>\n",
              "<table border=\"1\" class=\"dataframe\">\n",
              "  <thead>\n",
              "    <tr style=\"text-align: right;\">\n",
              "      <th></th>\n",
              "      <th>id</th>\n",
              "      <th>일자</th>\n",
              "      <th>시도명</th>\n",
              "      <th>읍면동명</th>\n",
              "      <th>거주인구</th>\n",
              "      <th>근무인구</th>\n",
              "      <th>방문인구</th>\n",
              "      <th>총 유동인구</th>\n",
              "      <th>평균 속도</th>\n",
              "      <th>평균 소요 시간</th>\n",
              "      <th>평균 기온</th>\n",
              "      <th>일강수량</th>\n",
              "      <th>평균 풍속</th>\n",
              "    </tr>\n",
              "  </thead>\n",
              "  <tbody>\n",
              "    <tr>\n",
              "      <th>9618</th>\n",
              "      <td>32066</td>\n",
              "      <td>2020-04-30</td>\n",
              "      <td>제주시</td>\n",
              "      <td>도두동</td>\n",
              "      <td>28397.481</td>\n",
              "      <td>3144.895</td>\n",
              "      <td>84052.697</td>\n",
              "      <td>115595.073</td>\n",
              "      <td>41.053</td>\n",
              "      <td>29.421</td>\n",
              "      <td>20.3</td>\n",
              "      <td>0.0</td>\n",
              "      <td>3.0</td>\n",
              "    </tr>\n",
              "    <tr>\n",
              "      <th>9619</th>\n",
              "      <td>32067</td>\n",
              "      <td>2020-04-30</td>\n",
              "      <td>서귀포시</td>\n",
              "      <td>안덕면</td>\n",
              "      <td>348037.846</td>\n",
              "      <td>29106.286</td>\n",
              "      <td>251129.660</td>\n",
              "      <td>628273.792</td>\n",
              "      <td>46.595</td>\n",
              "      <td>49.189</td>\n",
              "      <td>17.6</td>\n",
              "      <td>0.0</td>\n",
              "      <td>3.5</td>\n",
              "    </tr>\n",
              "    <tr>\n",
              "      <th>9620</th>\n",
              "      <td>32068</td>\n",
              "      <td>2020-04-30</td>\n",
              "      <td>제주시</td>\n",
              "      <td>연동</td>\n",
              "      <td>1010643.372</td>\n",
              "      <td>65673.477</td>\n",
              "      <td>447622.068</td>\n",
              "      <td>1523938.917</td>\n",
              "      <td>40.863</td>\n",
              "      <td>27.765</td>\n",
              "      <td>14.1</td>\n",
              "      <td>0.0</td>\n",
              "      <td>4.8</td>\n",
              "    </tr>\n",
              "  </tbody>\n",
              "</table>\n",
              "</div>\n",
              "      <button class=\"colab-df-convert\" onclick=\"convertToInteractive('df-9502e988-512b-4014-935b-96b10d3a89fe')\"\n",
              "              title=\"Convert this dataframe to an interactive table.\"\n",
              "              style=\"display:none;\">\n",
              "        \n",
              "  <svg xmlns=\"http://www.w3.org/2000/svg\" height=\"24px\"viewBox=\"0 0 24 24\"\n",
              "       width=\"24px\">\n",
              "    <path d=\"M0 0h24v24H0V0z\" fill=\"none\"/>\n",
              "    <path d=\"M18.56 5.44l.94 2.06.94-2.06 2.06-.94-2.06-.94-.94-2.06-.94 2.06-2.06.94zm-11 1L8.5 8.5l.94-2.06 2.06-.94-2.06-.94L8.5 2.5l-.94 2.06-2.06.94zm10 10l.94 2.06.94-2.06 2.06-.94-2.06-.94-.94-2.06-.94 2.06-2.06.94z\"/><path d=\"M17.41 7.96l-1.37-1.37c-.4-.4-.92-.59-1.43-.59-.52 0-1.04.2-1.43.59L10.3 9.45l-7.72 7.72c-.78.78-.78 2.05 0 2.83L4 21.41c.39.39.9.59 1.41.59.51 0 1.02-.2 1.41-.59l7.78-7.78 2.81-2.81c.8-.78.8-2.07 0-2.86zM5.41 20L4 18.59l7.72-7.72 1.47 1.35L5.41 20z\"/>\n",
              "  </svg>\n",
              "      </button>\n",
              "      \n",
              "  <style>\n",
              "    .colab-df-container {\n",
              "      display:flex;\n",
              "      flex-wrap:wrap;\n",
              "      gap: 12px;\n",
              "    }\n",
              "\n",
              "    .colab-df-convert {\n",
              "      background-color: #E8F0FE;\n",
              "      border: none;\n",
              "      border-radius: 50%;\n",
              "      cursor: pointer;\n",
              "      display: none;\n",
              "      fill: #1967D2;\n",
              "      height: 32px;\n",
              "      padding: 0 0 0 0;\n",
              "      width: 32px;\n",
              "    }\n",
              "\n",
              "    .colab-df-convert:hover {\n",
              "      background-color: #E2EBFA;\n",
              "      box-shadow: 0px 1px 2px rgba(60, 64, 67, 0.3), 0px 1px 3px 1px rgba(60, 64, 67, 0.15);\n",
              "      fill: #174EA6;\n",
              "    }\n",
              "\n",
              "    [theme=dark] .colab-df-convert {\n",
              "      background-color: #3B4455;\n",
              "      fill: #D2E3FC;\n",
              "    }\n",
              "\n",
              "    [theme=dark] .colab-df-convert:hover {\n",
              "      background-color: #434B5C;\n",
              "      box-shadow: 0px 1px 3px 1px rgba(0, 0, 0, 0.15);\n",
              "      filter: drop-shadow(0px 1px 2px rgba(0, 0, 0, 0.3));\n",
              "      fill: #FFFFFF;\n",
              "    }\n",
              "  </style>\n",
              "\n",
              "      <script>\n",
              "        const buttonEl =\n",
              "          document.querySelector('#df-9502e988-512b-4014-935b-96b10d3a89fe button.colab-df-convert');\n",
              "        buttonEl.style.display =\n",
              "          google.colab.kernel.accessAllowed ? 'block' : 'none';\n",
              "\n",
              "        async function convertToInteractive(key) {\n",
              "          const element = document.querySelector('#df-9502e988-512b-4014-935b-96b10d3a89fe');\n",
              "          const dataTable =\n",
              "            await google.colab.kernel.invokeFunction('convertToInteractive',\n",
              "                                                     [key], {});\n",
              "          if (!dataTable) return;\n",
              "\n",
              "          const docLinkHtml = 'Like what you see? Visit the ' +\n",
              "            '<a target=\"_blank\" href=https://colab.research.google.com/notebooks/data_table.ipynb>data table notebook</a>'\n",
              "            + ' to learn more about interactive tables.';\n",
              "          element.innerHTML = '';\n",
              "          dataTable['output_type'] = 'display_data';\n",
              "          await google.colab.output.renderOutput(dataTable, element);\n",
              "          const docLink = document.createElement('div');\n",
              "          docLink.innerHTML = docLinkHtml;\n",
              "          element.appendChild(docLink);\n",
              "        }\n",
              "      </script>\n",
              "    </div>\n",
              "  </div>\n",
              "  "
            ]
          },
          "metadata": {},
          "execution_count": 10
        }
      ]
    },
    {
      "cell_type": "markdown",
      "source": [
        "# Question 11\n",
        "> 수치형 변수를 가진 컬럼을 출력하라"
      ],
      "metadata": {
        "id": "18pSkGHcwZFG"
      }
    },
    {
      "cell_type": "code",
      "source": [
        "df2.select_dtypes(exclude=object).columns"
      ],
      "metadata": {
        "colab": {
          "base_uri": "https://localhost:8080/"
        },
        "id": "ZlwVzm42wd6m",
        "outputId": "031ceda0-210f-4c77-cd63-4412ac34ad60"
      },
      "execution_count": 11,
      "outputs": [
        {
          "output_type": "execute_result",
          "data": {
            "text/plain": [
              "Index(['id', '거주인구', '근무인구', '방문인구', '총 유동인구', '평균 속도', '평균 소요 시간', '평균 기온',\n",
              "       '일강수량', '평균 풍속'],\n",
              "      dtype='object')"
            ]
          },
          "metadata": {},
          "execution_count": 11
        }
      ]
    },
    {
      "cell_type": "markdown",
      "source": [
        "# Question 12\n",
        "> 범주형 변수를 가진 컬럼을 출력하라"
      ],
      "metadata": {
        "id": "7qlt5EyHUgX-"
      }
    },
    {
      "cell_type": "code",
      "source": [
        "df2.select_dtypes(include=object).columns"
      ],
      "metadata": {
        "colab": {
          "base_uri": "https://localhost:8080/"
        },
        "id": "SUHw0JsWUpA0",
        "outputId": "b64c8d6d-0ce6-4ff9-9dfa-19629072a964"
      },
      "execution_count": 12,
      "outputs": [
        {
          "output_type": "execute_result",
          "data": {
            "text/plain": [
              "Index(['일자', '시도명', '읍면동명'], dtype='object')"
            ]
          },
          "metadata": {},
          "execution_count": 12
        }
      ]
    },
    {
      "cell_type": "markdown",
      "source": [
        "# Question 13\n",
        "> 각 컬럼의 결측치 숫자를 파악하라"
      ],
      "metadata": {
        "id": "ONbsyJVXVq8q"
      }
    },
    {
      "cell_type": "code",
      "source": [
        "df2.isnull().sum()"
      ],
      "metadata": {
        "colab": {
          "base_uri": "https://localhost:8080/"
        },
        "id": "r3tL3i8UVvqA",
        "outputId": "fed62582-edcc-4520-927b-fbd8e9e8df90"
      },
      "execution_count": 13,
      "outputs": [
        {
          "output_type": "execute_result",
          "data": {
            "text/plain": [
              "id          0\n",
              "일자          0\n",
              "시도명         0\n",
              "읍면동명        0\n",
              "거주인구        0\n",
              "근무인구        0\n",
              "방문인구        0\n",
              "총 유동인구      0\n",
              "평균 속도       0\n",
              "평균 소요 시간    0\n",
              "평균 기온       0\n",
              "일강수량        0\n",
              "평균 풍속       0\n",
              "dtype: int64"
            ]
          },
          "metadata": {},
          "execution_count": 13
        }
      ]
    },
    {
      "cell_type": "markdown",
      "source": [
        "# Question 14\n",
        "> 각 컬럼의 데이터수, 데이터타입을 한번에 확인하라"
      ],
      "metadata": {
        "id": "fmJyTNaDWhaI"
      }
    },
    {
      "cell_type": "code",
      "source": [
        "df2.info()"
      ],
      "metadata": {
        "colab": {
          "base_uri": "https://localhost:8080/"
        },
        "id": "mXOvd44qWg6x",
        "outputId": "e518daa2-21bc-4ee0-a5f0-24093f8cdebb"
      },
      "execution_count": 14,
      "outputs": [
        {
          "output_type": "stream",
          "name": "stdout",
          "text": [
            "<class 'pandas.core.frame.DataFrame'>\n",
            "RangeIndex: 9621 entries, 0 to 9620\n",
            "Data columns (total 13 columns):\n",
            " #   Column    Non-Null Count  Dtype  \n",
            "---  ------    --------------  -----  \n",
            " 0   id        9621 non-null   int64  \n",
            " 1   일자        9621 non-null   object \n",
            " 2   시도명       9621 non-null   object \n",
            " 3   읍면동명      9621 non-null   object \n",
            " 4   거주인구      9621 non-null   float64\n",
            " 5   근무인구      9621 non-null   float64\n",
            " 6   방문인구      9621 non-null   float64\n",
            " 7   총 유동인구    9621 non-null   float64\n",
            " 8   평균 속도     9621 non-null   float64\n",
            " 9   평균 소요 시간  9621 non-null   float64\n",
            " 10  평균 기온     9621 non-null   float64\n",
            " 11  일강수량      9621 non-null   float64\n",
            " 12  평균 풍속     9621 non-null   float64\n",
            "dtypes: float64(9), int64(1), object(3)\n",
            "memory usage: 977.3+ KB\n"
          ]
        }
      ]
    },
    {
      "cell_type": "markdown",
      "source": [
        "# Question 15\n",
        "> 각 수치형 변수의 분포(사분위, 평균, 표준편차, 최대 , 최소)를 확인하라"
      ],
      "metadata": {
        "id": "jQAjyFS8WwEq"
      }
    },
    {
      "cell_type": "code",
      "source": [
        "df2.describe()"
      ],
      "metadata": {
        "colab": {
          "base_uri": "https://localhost:8080/",
          "height": 300
        },
        "id": "wP44i4-uWzbs",
        "outputId": "e16b8bee-4e42-41af-972f-48382f38cbe0"
      },
      "execution_count": 15,
      "outputs": [
        {
          "output_type": "execute_result",
          "data": {
            "text/plain": [
              "                 id          거주인구           근무인구           방문인구        총 유동인구  \\\n",
              "count   9621.000000  9.621000e+03    9621.000000    9621.000000  9.621000e+03   \n",
              "mean   27258.000000  3.174315e+05   35471.201510  195889.561802  5.487922e+05   \n",
              "std     2777.487804  2.982079e+05   40381.214775  140706.090325  4.608802e+05   \n",
              "min    22448.000000  9.305552e+03    1407.936000   11538.322000  2.225181e+04   \n",
              "25%    24853.000000  9.539939e+04   12074.498000   99632.153000  2.216910e+05   \n",
              "50%    27258.000000  2.221105e+05   21960.928000  152805.335000  3.866935e+05   \n",
              "75%    29663.000000  4.106671e+05   40192.032000  236325.109000  6.406918e+05   \n",
              "max    32068.000000  1.364504e+06  263476.965000  723459.209000  2.066484e+06   \n",
              "\n",
              "             평균 속도     평균 소요 시간        평균 기온         일강수량        평균 풍속  \n",
              "count  9621.000000  9621.000000  9621.000000  9621.000000  9621.000000  \n",
              "mean     41.109084    37.215873    13.550828     6.972426     2.753171  \n",
              "std       8.758631    12.993786     7.745515    27.617260     1.498538  \n",
              "min      24.333000    12.667000    -9.600000     0.000000     0.000000  \n",
              "25%      34.250000    27.889000     7.600000     0.000000     1.700000  \n",
              "50%      39.640000    34.500000    13.400000     0.000000     2.400000  \n",
              "75%      49.105000    46.176000    19.700000     1.500000     3.400000  \n",
              "max     103.000000   172.200000    30.400000   587.500000    13.333000  "
            ],
            "text/html": [
              "\n",
              "  <div id=\"df-5819860c-36f1-4f39-bbba-79cee4818ee9\">\n",
              "    <div class=\"colab-df-container\">\n",
              "      <div>\n",
              "<style scoped>\n",
              "    .dataframe tbody tr th:only-of-type {\n",
              "        vertical-align: middle;\n",
              "    }\n",
              "\n",
              "    .dataframe tbody tr th {\n",
              "        vertical-align: top;\n",
              "    }\n",
              "\n",
              "    .dataframe thead th {\n",
              "        text-align: right;\n",
              "    }\n",
              "</style>\n",
              "<table border=\"1\" class=\"dataframe\">\n",
              "  <thead>\n",
              "    <tr style=\"text-align: right;\">\n",
              "      <th></th>\n",
              "      <th>id</th>\n",
              "      <th>거주인구</th>\n",
              "      <th>근무인구</th>\n",
              "      <th>방문인구</th>\n",
              "      <th>총 유동인구</th>\n",
              "      <th>평균 속도</th>\n",
              "      <th>평균 소요 시간</th>\n",
              "      <th>평균 기온</th>\n",
              "      <th>일강수량</th>\n",
              "      <th>평균 풍속</th>\n",
              "    </tr>\n",
              "  </thead>\n",
              "  <tbody>\n",
              "    <tr>\n",
              "      <th>count</th>\n",
              "      <td>9621.000000</td>\n",
              "      <td>9.621000e+03</td>\n",
              "      <td>9621.000000</td>\n",
              "      <td>9621.000000</td>\n",
              "      <td>9.621000e+03</td>\n",
              "      <td>9621.000000</td>\n",
              "      <td>9621.000000</td>\n",
              "      <td>9621.000000</td>\n",
              "      <td>9621.000000</td>\n",
              "      <td>9621.000000</td>\n",
              "    </tr>\n",
              "    <tr>\n",
              "      <th>mean</th>\n",
              "      <td>27258.000000</td>\n",
              "      <td>3.174315e+05</td>\n",
              "      <td>35471.201510</td>\n",
              "      <td>195889.561802</td>\n",
              "      <td>5.487922e+05</td>\n",
              "      <td>41.109084</td>\n",
              "      <td>37.215873</td>\n",
              "      <td>13.550828</td>\n",
              "      <td>6.972426</td>\n",
              "      <td>2.753171</td>\n",
              "    </tr>\n",
              "    <tr>\n",
              "      <th>std</th>\n",
              "      <td>2777.487804</td>\n",
              "      <td>2.982079e+05</td>\n",
              "      <td>40381.214775</td>\n",
              "      <td>140706.090325</td>\n",
              "      <td>4.608802e+05</td>\n",
              "      <td>8.758631</td>\n",
              "      <td>12.993786</td>\n",
              "      <td>7.745515</td>\n",
              "      <td>27.617260</td>\n",
              "      <td>1.498538</td>\n",
              "    </tr>\n",
              "    <tr>\n",
              "      <th>min</th>\n",
              "      <td>22448.000000</td>\n",
              "      <td>9.305552e+03</td>\n",
              "      <td>1407.936000</td>\n",
              "      <td>11538.322000</td>\n",
              "      <td>2.225181e+04</td>\n",
              "      <td>24.333000</td>\n",
              "      <td>12.667000</td>\n",
              "      <td>-9.600000</td>\n",
              "      <td>0.000000</td>\n",
              "      <td>0.000000</td>\n",
              "    </tr>\n",
              "    <tr>\n",
              "      <th>25%</th>\n",
              "      <td>24853.000000</td>\n",
              "      <td>9.539939e+04</td>\n",
              "      <td>12074.498000</td>\n",
              "      <td>99632.153000</td>\n",
              "      <td>2.216910e+05</td>\n",
              "      <td>34.250000</td>\n",
              "      <td>27.889000</td>\n",
              "      <td>7.600000</td>\n",
              "      <td>0.000000</td>\n",
              "      <td>1.700000</td>\n",
              "    </tr>\n",
              "    <tr>\n",
              "      <th>50%</th>\n",
              "      <td>27258.000000</td>\n",
              "      <td>2.221105e+05</td>\n",
              "      <td>21960.928000</td>\n",
              "      <td>152805.335000</td>\n",
              "      <td>3.866935e+05</td>\n",
              "      <td>39.640000</td>\n",
              "      <td>34.500000</td>\n",
              "      <td>13.400000</td>\n",
              "      <td>0.000000</td>\n",
              "      <td>2.400000</td>\n",
              "    </tr>\n",
              "    <tr>\n",
              "      <th>75%</th>\n",
              "      <td>29663.000000</td>\n",
              "      <td>4.106671e+05</td>\n",
              "      <td>40192.032000</td>\n",
              "      <td>236325.109000</td>\n",
              "      <td>6.406918e+05</td>\n",
              "      <td>49.105000</td>\n",
              "      <td>46.176000</td>\n",
              "      <td>19.700000</td>\n",
              "      <td>1.500000</td>\n",
              "      <td>3.400000</td>\n",
              "    </tr>\n",
              "    <tr>\n",
              "      <th>max</th>\n",
              "      <td>32068.000000</td>\n",
              "      <td>1.364504e+06</td>\n",
              "      <td>263476.965000</td>\n",
              "      <td>723459.209000</td>\n",
              "      <td>2.066484e+06</td>\n",
              "      <td>103.000000</td>\n",
              "      <td>172.200000</td>\n",
              "      <td>30.400000</td>\n",
              "      <td>587.500000</td>\n",
              "      <td>13.333000</td>\n",
              "    </tr>\n",
              "  </tbody>\n",
              "</table>\n",
              "</div>\n",
              "      <button class=\"colab-df-convert\" onclick=\"convertToInteractive('df-5819860c-36f1-4f39-bbba-79cee4818ee9')\"\n",
              "              title=\"Convert this dataframe to an interactive table.\"\n",
              "              style=\"display:none;\">\n",
              "        \n",
              "  <svg xmlns=\"http://www.w3.org/2000/svg\" height=\"24px\"viewBox=\"0 0 24 24\"\n",
              "       width=\"24px\">\n",
              "    <path d=\"M0 0h24v24H0V0z\" fill=\"none\"/>\n",
              "    <path d=\"M18.56 5.44l.94 2.06.94-2.06 2.06-.94-2.06-.94-.94-2.06-.94 2.06-2.06.94zm-11 1L8.5 8.5l.94-2.06 2.06-.94-2.06-.94L8.5 2.5l-.94 2.06-2.06.94zm10 10l.94 2.06.94-2.06 2.06-.94-2.06-.94-.94-2.06-.94 2.06-2.06.94z\"/><path d=\"M17.41 7.96l-1.37-1.37c-.4-.4-.92-.59-1.43-.59-.52 0-1.04.2-1.43.59L10.3 9.45l-7.72 7.72c-.78.78-.78 2.05 0 2.83L4 21.41c.39.39.9.59 1.41.59.51 0 1.02-.2 1.41-.59l7.78-7.78 2.81-2.81c.8-.78.8-2.07 0-2.86zM5.41 20L4 18.59l7.72-7.72 1.47 1.35L5.41 20z\"/>\n",
              "  </svg>\n",
              "      </button>\n",
              "      \n",
              "  <style>\n",
              "    .colab-df-container {\n",
              "      display:flex;\n",
              "      flex-wrap:wrap;\n",
              "      gap: 12px;\n",
              "    }\n",
              "\n",
              "    .colab-df-convert {\n",
              "      background-color: #E8F0FE;\n",
              "      border: none;\n",
              "      border-radius: 50%;\n",
              "      cursor: pointer;\n",
              "      display: none;\n",
              "      fill: #1967D2;\n",
              "      height: 32px;\n",
              "      padding: 0 0 0 0;\n",
              "      width: 32px;\n",
              "    }\n",
              "\n",
              "    .colab-df-convert:hover {\n",
              "      background-color: #E2EBFA;\n",
              "      box-shadow: 0px 1px 2px rgba(60, 64, 67, 0.3), 0px 1px 3px 1px rgba(60, 64, 67, 0.15);\n",
              "      fill: #174EA6;\n",
              "    }\n",
              "\n",
              "    [theme=dark] .colab-df-convert {\n",
              "      background-color: #3B4455;\n",
              "      fill: #D2E3FC;\n",
              "    }\n",
              "\n",
              "    [theme=dark] .colab-df-convert:hover {\n",
              "      background-color: #434B5C;\n",
              "      box-shadow: 0px 1px 3px 1px rgba(0, 0, 0, 0.15);\n",
              "      filter: drop-shadow(0px 1px 2px rgba(0, 0, 0, 0.3));\n",
              "      fill: #FFFFFF;\n",
              "    }\n",
              "  </style>\n",
              "\n",
              "      <script>\n",
              "        const buttonEl =\n",
              "          document.querySelector('#df-5819860c-36f1-4f39-bbba-79cee4818ee9 button.colab-df-convert');\n",
              "        buttonEl.style.display =\n",
              "          google.colab.kernel.accessAllowed ? 'block' : 'none';\n",
              "\n",
              "        async function convertToInteractive(key) {\n",
              "          const element = document.querySelector('#df-5819860c-36f1-4f39-bbba-79cee4818ee9');\n",
              "          const dataTable =\n",
              "            await google.colab.kernel.invokeFunction('convertToInteractive',\n",
              "                                                     [key], {});\n",
              "          if (!dataTable) return;\n",
              "\n",
              "          const docLinkHtml = 'Like what you see? Visit the ' +\n",
              "            '<a target=\"_blank\" href=https://colab.research.google.com/notebooks/data_table.ipynb>data table notebook</a>'\n",
              "            + ' to learn more about interactive tables.';\n",
              "          element.innerHTML = '';\n",
              "          dataTable['output_type'] = 'display_data';\n",
              "          await google.colab.output.renderOutput(dataTable, element);\n",
              "          const docLink = document.createElement('div');\n",
              "          docLink.innerHTML = docLinkHtml;\n",
              "          element.appendChild(docLink);\n",
              "        }\n",
              "      </script>\n",
              "    </div>\n",
              "  </div>\n",
              "  "
            ]
          },
          "metadata": {},
          "execution_count": 15
        }
      ]
    },
    {
      "cell_type": "markdown",
      "source": [
        "# Question 16\n",
        "> 거주인구 컬럼의 값들을 출력하라"
      ],
      "metadata": {
        "id": "tfzUiS7fW5j3"
      }
    },
    {
      "cell_type": "code",
      "source": [
        "df2['거주인구']"
      ],
      "metadata": {
        "colab": {
          "base_uri": "https://localhost:8080/"
        },
        "id": "Y_58zzFmW-Jp",
        "outputId": "cade20cf-31ce-4afa-f5f1-a7871604f5bc"
      },
      "execution_count": 16,
      "outputs": [
        {
          "output_type": "execute_result",
          "data": {
            "text/plain": [
              "0         32249.987\n",
              "1        213500.997\n",
              "2       1212382.218\n",
              "3         33991.653\n",
              "4        155036.925\n",
              "           ...     \n",
              "9616     228260.005\n",
              "9617     459959.064\n",
              "9618      28397.481\n",
              "9619     348037.846\n",
              "9620    1010643.372\n",
              "Name: 거주인구, Length: 9621, dtype: float64"
            ]
          },
          "metadata": {},
          "execution_count": 16
        }
      ]
    },
    {
      "cell_type": "markdown",
      "source": [
        "# Question 17\n",
        "> 평균 속도 컬럼의 4분위 범위(IQR) 값을 구하여라"
      ],
      "metadata": {
        "id": "ftrusDvcXG8Y"
      }
    },
    {
      "cell_type": "code",
      "source": [
        "df2['평균 속도'].quantile(.75) - df2['평균 속도'].quantile(.25)"
      ],
      "metadata": {
        "id": "RM_0NxFiXLbS",
        "outputId": "35aba8d6-2fab-4f56-97c1-265a227a166b",
        "colab": {
          "base_uri": "https://localhost:8080/"
        }
      },
      "execution_count": 22,
      "outputs": [
        {
          "output_type": "execute_result",
          "data": {
            "text/plain": [
              "14.854999999999997"
            ]
          },
          "metadata": {},
          "execution_count": 22
        }
      ]
    }
  ]
}